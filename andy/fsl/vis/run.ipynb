{
 "cells": [
  {
   "cell_type": "code",
   "execution_count": 1,
   "id": "8788ff66",
   "metadata": {},
   "outputs": [
    {
     "name": "stderr",
     "output_type": "stream",
     "text": [
      "/Users/donnybertucci/practice-brain/andy/fsl/vis/.venv/lib/python3.10/site-packages/numba/cpython/old_hashing.py:477: UserWarning: FNV hashing is not implemented in Numba. See PEP 456 https://www.python.org/dev/peps/pep-0456/ for rationale over not using FNV. Numba will continue to work, but hashes for built in types will be computed using siphash24. This will permit e.g. dictionaries to continue to behave as expected, however anything relying on the value of the hash opposed to hash as a derived property is likely to not work as expected.\n",
      "  warnings.warn(msg)\n",
      "/Users/donnybertucci/practice-brain/andy/fsl/vis/.venv/lib/python3.10/site-packages/tqdm/auto.py:21: TqdmWarning: IProgress not found. Please update jupyter and ipywidgets. See https://ipywidgets.readthedocs.io/en/stable/user_install.html\n",
      "  from .autonotebook import tqdm as notebook_tqdm\n"
     ]
    }
   ],
   "source": [
    "import nibabel as nib\n",
    "import numpy as np\n",
    "import matplotlib.pyplot as plt\n",
    "from umap import UMAP\n",
    "plt.style.use(\"dark_background\")"
   ]
  },
  {
   "cell_type": "code",
   "execution_count": 39,
   "id": "e57497f0",
   "metadata": {},
   "outputs": [],
   "source": [
    "from pathlib import Path\n",
    "FLANKER_PATH = Path(\"..\", \"..\", \"ds000102\").resolve(True)\n",
    "NUM_SUBS = 26\n",
    "NUM_RUNS_PER_SUB = 2\n",
    "NUM_EVS_PER_RUN = 2\n",
    "TOTAL_RUNS = NUM_RUNS_PER_SUB*NUM_SUBS\n",
    "EVS = {1: \"incongruent\", 2: \"congruent\"}"
   ]
  },
  {
   "cell_type": "code",
   "execution_count": 44,
   "id": "418846f3",
   "metadata": {},
   "outputs": [
    {
     "name": "stdout",
     "output_type": "stream",
     "text": [
      "incongruent Loaded from /Users/donnybertucci/practice-brain/andy/ds000102/sub-01/run1.feat/stats/tstat1.nii.gz\n",
      "congruent Loaded from /Users/donnybertucci/practice-brain/andy/ds000102/sub-01/run1.feat/stats/tstat2.nii.gz\n",
      "incongruent Loaded from /Users/donnybertucci/practice-brain/andy/ds000102/sub-01/run2.feat/stats/tstat1.nii.gz\n",
      "congruent Loaded from /Users/donnybertucci/practice-brain/andy/ds000102/sub-01/run2.feat/stats/tstat2.nii.gz\n",
      "incongruent Loaded from /Users/donnybertucci/practice-brain/andy/ds000102/sub-02/run1.feat/stats/tstat1.nii.gz\n",
      "congruent Loaded from /Users/donnybertucci/practice-brain/andy/ds000102/sub-02/run1.feat/stats/tstat2.nii.gz\n",
      "incongruent Loaded from /Users/donnybertucci/practice-brain/andy/ds000102/sub-02/run2.feat/stats/tstat1.nii.gz\n",
      "congruent Loaded from /Users/donnybertucci/practice-brain/andy/ds000102/sub-02/run2.feat/stats/tstat2.nii.gz\n",
      "incongruent Loaded from /Users/donnybertucci/practice-brain/andy/ds000102/sub-03/run1.feat/stats/tstat1.nii.gz\n",
      "congruent Loaded from /Users/donnybertucci/practice-brain/andy/ds000102/sub-03/run1.feat/stats/tstat2.nii.gz\n",
      "incongruent Loaded from /Users/donnybertucci/practice-brain/andy/ds000102/sub-03/run2.feat/stats/tstat1.nii.gz\n",
      "congruent Loaded from /Users/donnybertucci/practice-brain/andy/ds000102/sub-03/run2.feat/stats/tstat2.nii.gz\n",
      "incongruent Loaded from /Users/donnybertucci/practice-brain/andy/ds000102/sub-04/run1.feat/stats/tstat1.nii.gz\n",
      "congruent Loaded from /Users/donnybertucci/practice-brain/andy/ds000102/sub-04/run1.feat/stats/tstat2.nii.gz\n",
      "incongruent Loaded from /Users/donnybertucci/practice-brain/andy/ds000102/sub-04/run2.feat/stats/tstat1.nii.gz\n",
      "congruent Loaded from /Users/donnybertucci/practice-brain/andy/ds000102/sub-04/run2.feat/stats/tstat2.nii.gz\n",
      "incongruent Loaded from /Users/donnybertucci/practice-brain/andy/ds000102/sub-05/run1.feat/stats/tstat1.nii.gz\n",
      "congruent Loaded from /Users/donnybertucci/practice-brain/andy/ds000102/sub-05/run1.feat/stats/tstat2.nii.gz\n",
      "incongruent Loaded from /Users/donnybertucci/practice-brain/andy/ds000102/sub-05/run2.feat/stats/tstat1.nii.gz\n",
      "congruent Loaded from /Users/donnybertucci/practice-brain/andy/ds000102/sub-05/run2.feat/stats/tstat2.nii.gz\n",
      "incongruent Loaded from /Users/donnybertucci/practice-brain/andy/ds000102/sub-06/run1.feat/stats/tstat1.nii.gz\n",
      "congruent Loaded from /Users/donnybertucci/practice-brain/andy/ds000102/sub-06/run1.feat/stats/tstat2.nii.gz\n",
      "incongruent Loaded from /Users/donnybertucci/practice-brain/andy/ds000102/sub-06/run2.feat/stats/tstat1.nii.gz\n",
      "congruent Loaded from /Users/donnybertucci/practice-brain/andy/ds000102/sub-06/run2.feat/stats/tstat2.nii.gz\n",
      "incongruent Loaded from /Users/donnybertucci/practice-brain/andy/ds000102/sub-07/run1.feat/stats/tstat1.nii.gz\n",
      "congruent Loaded from /Users/donnybertucci/practice-brain/andy/ds000102/sub-07/run1.feat/stats/tstat2.nii.gz\n",
      "incongruent Loaded from /Users/donnybertucci/practice-brain/andy/ds000102/sub-07/run2.feat/stats/tstat1.nii.gz\n",
      "congruent Loaded from /Users/donnybertucci/practice-brain/andy/ds000102/sub-07/run2.feat/stats/tstat2.nii.gz\n",
      "incongruent Loaded from /Users/donnybertucci/practice-brain/andy/ds000102/sub-08/run1.feat/stats/tstat1.nii.gz\n",
      "congruent Loaded from /Users/donnybertucci/practice-brain/andy/ds000102/sub-08/run1.feat/stats/tstat2.nii.gz\n",
      "incongruent Loaded from /Users/donnybertucci/practice-brain/andy/ds000102/sub-08/run2.feat/stats/tstat1.nii.gz\n",
      "congruent Loaded from /Users/donnybertucci/practice-brain/andy/ds000102/sub-08/run2.feat/stats/tstat2.nii.gz\n",
      "incongruent Loaded from /Users/donnybertucci/practice-brain/andy/ds000102/sub-09/run1.feat/stats/tstat1.nii.gz\n",
      "congruent Loaded from /Users/donnybertucci/practice-brain/andy/ds000102/sub-09/run1.feat/stats/tstat2.nii.gz\n",
      "incongruent Loaded from /Users/donnybertucci/practice-brain/andy/ds000102/sub-09/run2.feat/stats/tstat1.nii.gz\n",
      "congruent Loaded from /Users/donnybertucci/practice-brain/andy/ds000102/sub-09/run2.feat/stats/tstat2.nii.gz\n",
      "incongruent Loaded from /Users/donnybertucci/practice-brain/andy/ds000102/sub-10/run1.feat/stats/tstat1.nii.gz\n",
      "congruent Loaded from /Users/donnybertucci/practice-brain/andy/ds000102/sub-10/run1.feat/stats/tstat2.nii.gz\n",
      "incongruent Loaded from /Users/donnybertucci/practice-brain/andy/ds000102/sub-10/run2.feat/stats/tstat1.nii.gz\n",
      "congruent Loaded from /Users/donnybertucci/practice-brain/andy/ds000102/sub-10/run2.feat/stats/tstat2.nii.gz\n",
      "incongruent Loaded from /Users/donnybertucci/practice-brain/andy/ds000102/sub-11/run1.feat/stats/tstat1.nii.gz\n",
      "congruent Loaded from /Users/donnybertucci/practice-brain/andy/ds000102/sub-11/run1.feat/stats/tstat2.nii.gz\n",
      "incongruent Loaded from /Users/donnybertucci/practice-brain/andy/ds000102/sub-11/run2.feat/stats/tstat1.nii.gz\n",
      "congruent Loaded from /Users/donnybertucci/practice-brain/andy/ds000102/sub-11/run2.feat/stats/tstat2.nii.gz\n",
      "incongruent Loaded from /Users/donnybertucci/practice-brain/andy/ds000102/sub-12/run1.feat/stats/tstat1.nii.gz\n",
      "congruent Loaded from /Users/donnybertucci/practice-brain/andy/ds000102/sub-12/run1.feat/stats/tstat2.nii.gz\n",
      "incongruent Loaded from /Users/donnybertucci/practice-brain/andy/ds000102/sub-12/run2.feat/stats/tstat1.nii.gz\n",
      "congruent Loaded from /Users/donnybertucci/practice-brain/andy/ds000102/sub-12/run2.feat/stats/tstat2.nii.gz\n",
      "incongruent Loaded from /Users/donnybertucci/practice-brain/andy/ds000102/sub-13/run1.feat/stats/tstat1.nii.gz\n",
      "congruent Loaded from /Users/donnybertucci/practice-brain/andy/ds000102/sub-13/run1.feat/stats/tstat2.nii.gz\n",
      "incongruent Loaded from /Users/donnybertucci/practice-brain/andy/ds000102/sub-13/run2.feat/stats/tstat1.nii.gz\n",
      "congruent Loaded from /Users/donnybertucci/practice-brain/andy/ds000102/sub-13/run2.feat/stats/tstat2.nii.gz\n",
      "incongruent Loaded from /Users/donnybertucci/practice-brain/andy/ds000102/sub-14/run1.feat/stats/tstat1.nii.gz\n",
      "congruent Loaded from /Users/donnybertucci/practice-brain/andy/ds000102/sub-14/run1.feat/stats/tstat2.nii.gz\n",
      "incongruent Loaded from /Users/donnybertucci/practice-brain/andy/ds000102/sub-14/run2.feat/stats/tstat1.nii.gz\n",
      "congruent Loaded from /Users/donnybertucci/practice-brain/andy/ds000102/sub-14/run2.feat/stats/tstat2.nii.gz\n",
      "incongruent Loaded from /Users/donnybertucci/practice-brain/andy/ds000102/sub-15/run1.feat/stats/tstat1.nii.gz\n",
      "congruent Loaded from /Users/donnybertucci/practice-brain/andy/ds000102/sub-15/run1.feat/stats/tstat2.nii.gz\n",
      "incongruent Loaded from /Users/donnybertucci/practice-brain/andy/ds000102/sub-15/run2.feat/stats/tstat1.nii.gz\n",
      "congruent Loaded from /Users/donnybertucci/practice-brain/andy/ds000102/sub-15/run2.feat/stats/tstat2.nii.gz\n",
      "incongruent Loaded from /Users/donnybertucci/practice-brain/andy/ds000102/sub-16/run1.feat/stats/tstat1.nii.gz\n",
      "congruent Loaded from /Users/donnybertucci/practice-brain/andy/ds000102/sub-16/run1.feat/stats/tstat2.nii.gz\n",
      "incongruent Loaded from /Users/donnybertucci/practice-brain/andy/ds000102/sub-16/run2.feat/stats/tstat1.nii.gz\n",
      "congruent Loaded from /Users/donnybertucci/practice-brain/andy/ds000102/sub-16/run2.feat/stats/tstat2.nii.gz\n",
      "incongruent Loaded from /Users/donnybertucci/practice-brain/andy/ds000102/sub-17/run1.feat/stats/tstat1.nii.gz\n",
      "congruent Loaded from /Users/donnybertucci/practice-brain/andy/ds000102/sub-17/run1.feat/stats/tstat2.nii.gz\n",
      "incongruent Loaded from /Users/donnybertucci/practice-brain/andy/ds000102/sub-17/run2.feat/stats/tstat1.nii.gz\n",
      "congruent Loaded from /Users/donnybertucci/practice-brain/andy/ds000102/sub-17/run2.feat/stats/tstat2.nii.gz\n",
      "incongruent Loaded from /Users/donnybertucci/practice-brain/andy/ds000102/sub-18/run1.feat/stats/tstat1.nii.gz\n",
      "congruent Loaded from /Users/donnybertucci/practice-brain/andy/ds000102/sub-18/run1.feat/stats/tstat2.nii.gz\n",
      "incongruent Loaded from /Users/donnybertucci/practice-brain/andy/ds000102/sub-18/run2.feat/stats/tstat1.nii.gz\n",
      "congruent Loaded from /Users/donnybertucci/practice-brain/andy/ds000102/sub-18/run2.feat/stats/tstat2.nii.gz\n",
      "incongruent Loaded from /Users/donnybertucci/practice-brain/andy/ds000102/sub-19/run1.feat/stats/tstat1.nii.gz\n",
      "congruent Loaded from /Users/donnybertucci/practice-brain/andy/ds000102/sub-19/run1.feat/stats/tstat2.nii.gz\n",
      "incongruent Loaded from /Users/donnybertucci/practice-brain/andy/ds000102/sub-19/run2.feat/stats/tstat1.nii.gz\n",
      "congruent Loaded from /Users/donnybertucci/practice-brain/andy/ds000102/sub-19/run2.feat/stats/tstat2.nii.gz\n",
      "incongruent Loaded from /Users/donnybertucci/practice-brain/andy/ds000102/sub-20/run1.feat/stats/tstat1.nii.gz\n",
      "congruent Loaded from /Users/donnybertucci/practice-brain/andy/ds000102/sub-20/run1.feat/stats/tstat2.nii.gz\n",
      "incongruent Loaded from /Users/donnybertucci/practice-brain/andy/ds000102/sub-20/run2.feat/stats/tstat1.nii.gz\n",
      "congruent Loaded from /Users/donnybertucci/practice-brain/andy/ds000102/sub-20/run2.feat/stats/tstat2.nii.gz\n",
      "incongruent Loaded from /Users/donnybertucci/practice-brain/andy/ds000102/sub-21/run1.feat/stats/tstat1.nii.gz\n",
      "congruent Loaded from /Users/donnybertucci/practice-brain/andy/ds000102/sub-21/run1.feat/stats/tstat2.nii.gz\n",
      "incongruent Loaded from /Users/donnybertucci/practice-brain/andy/ds000102/sub-21/run2.feat/stats/tstat1.nii.gz\n",
      "congruent Loaded from /Users/donnybertucci/practice-brain/andy/ds000102/sub-21/run2.feat/stats/tstat2.nii.gz\n",
      "incongruent Loaded from /Users/donnybertucci/practice-brain/andy/ds000102/sub-22/run1.feat/stats/tstat1.nii.gz\n",
      "congruent Loaded from /Users/donnybertucci/practice-brain/andy/ds000102/sub-22/run1.feat/stats/tstat2.nii.gz\n",
      "incongruent Loaded from /Users/donnybertucci/practice-brain/andy/ds000102/sub-22/run2.feat/stats/tstat1.nii.gz\n",
      "congruent Loaded from /Users/donnybertucci/practice-brain/andy/ds000102/sub-22/run2.feat/stats/tstat2.nii.gz\n",
      "incongruent Loaded from /Users/donnybertucci/practice-brain/andy/ds000102/sub-23/run1.feat/stats/tstat1.nii.gz\n",
      "congruent Loaded from /Users/donnybertucci/practice-brain/andy/ds000102/sub-23/run1.feat/stats/tstat2.nii.gz\n",
      "incongruent Loaded from /Users/donnybertucci/practice-brain/andy/ds000102/sub-23/run2.feat/stats/tstat1.nii.gz\n",
      "congruent Loaded from /Users/donnybertucci/practice-brain/andy/ds000102/sub-23/run2.feat/stats/tstat2.nii.gz\n",
      "incongruent Loaded from /Users/donnybertucci/practice-brain/andy/ds000102/sub-24/run1.feat/stats/tstat1.nii.gz\n",
      "congruent Loaded from /Users/donnybertucci/practice-brain/andy/ds000102/sub-24/run1.feat/stats/tstat2.nii.gz\n",
      "incongruent Loaded from /Users/donnybertucci/practice-brain/andy/ds000102/sub-24/run2.feat/stats/tstat1.nii.gz\n",
      "congruent Loaded from /Users/donnybertucci/practice-brain/andy/ds000102/sub-24/run2.feat/stats/tstat2.nii.gz\n",
      "incongruent Loaded from /Users/donnybertucci/practice-brain/andy/ds000102/sub-25/run1.feat/stats/tstat1.nii.gz\n",
      "congruent Loaded from /Users/donnybertucci/practice-brain/andy/ds000102/sub-25/run1.feat/stats/tstat2.nii.gz\n",
      "incongruent Loaded from /Users/donnybertucci/practice-brain/andy/ds000102/sub-25/run2.feat/stats/tstat1.nii.gz\n",
      "congruent Loaded from /Users/donnybertucci/practice-brain/andy/ds000102/sub-25/run2.feat/stats/tstat2.nii.gz\n",
      "incongruent Loaded from /Users/donnybertucci/practice-brain/andy/ds000102/sub-26/run1.feat/stats/tstat1.nii.gz\n",
      "congruent Loaded from /Users/donnybertucci/practice-brain/andy/ds000102/sub-26/run1.feat/stats/tstat2.nii.gz\n",
      "incongruent Loaded from /Users/donnybertucci/practice-brain/andy/ds000102/sub-26/run2.feat/stats/tstat1.nii.gz\n",
      "congruent Loaded from /Users/donnybertucci/practice-brain/andy/ds000102/sub-26/run2.feat/stats/tstat2.nii.gz\n"
     ]
    }
   ],
   "source": [
    "def iter_betas():\n",
    "\tfor i in range(1, NUM_SUBS+1):\n",
    "\t\tsub = f\"sub-{i:02}\"\n",
    "\t\tfor j in range(1, NUM_RUNS_PER_SUB+1):\n",
    "\t\t\trun = f\"run{j}.feat\"\n",
    "\t\t\tfor k in range(1, NUM_EVS_PER_RUN+1):\n",
    "\t\t\t\tbetas_filename = f\"tstat{k}.nii.gz\" # the betas / regressor_error (unexplained variance)\n",
    "\t\t\t\tbetas_path = FLANKER_PATH / sub / run / \"stats\" / betas_filename\n",
    "\t\t\t\tyield betas_path, i, j, k\n",
    "\n",
    "\n",
    "data = {\"incongruent\": [], \"congruent\": []}\n",
    "for filename, sub_idx, run_idx, betas_idx in iter_betas():\n",
    "\ttask = EVS[betas_idx]\n",
    "\tloaded_betas = nib.load(filename).get_fdata()\n",
    "\tdata[task].append(loaded_betas) \n",
    "\tprint(task, \"Loaded from\", filename)"
   ]
  },
  {
   "cell_type": "markdown",
   "id": "44e8e02c",
   "metadata": {},
   "source": [
    "Next I want to create a longer (N, ...) long vector to be transformed via umap"
   ]
  },
  {
   "cell_type": "code",
   "execution_count": 60,
   "id": "c9cbafe5",
   "metadata": {},
   "outputs": [],
   "source": [
    "def flatten_data(data: dict[str, list[np.ndarray]]) -> tuple[list[str], np.ndarray]:\n",
    "\tflat_data = []\n",
    "\tlabels = []\n",
    "\n",
    "\tfor ev in EVS.values():\n",
    "\t\tfor betas in data[ev]:\n",
    "\t\t\tlabels.append(ev)\n",
    "\t\t\tflat_data.append(\n",
    "\t\t\t\tbetas.reshape(-1)\n",
    "\t\t\t)\n",
    "\treturn np.array(labels), np.vstack(flat_data)\n",
    "\n",
    "labels, flat_data = flatten_data(data)"
   ]
  },
  {
   "cell_type": "code",
   "execution_count": 58,
   "id": "27529013",
   "metadata": {},
   "outputs": [
    {
     "name": "stderr",
     "output_type": "stream",
     "text": [
      "/Users/donnybertucci/practice-brain/andy/fsl/vis/.venv/lib/python3.10/site-packages/sklearn/utils/deprecation.py:151: FutureWarning: 'force_all_finite' was renamed to 'ensure_all_finite' in 1.6 and will be removed in 1.8.\n",
      "  warnings.warn(\n"
     ]
    }
   ],
   "source": [
    "flat_data_2d = UMAP().fit_transform(flat_data)"
   ]
  },
  {
   "cell_type": "code",
   "execution_count": null,
   "id": "e306d848",
   "metadata": {},
   "outputs": [
    {
     "data": {
      "text/plain": [
       "<matplotlib.collections.PathCollection at 0x123ab0490>"
      ]
     },
     "execution_count": 59,
     "metadata": {},
     "output_type": "execute_result"
    },
    {
     "data": {
      "image/png": "[encoded data removed]",
      "text/plain": [
       "<Figure size 640x480 with 1 Axes>"
      ]
     },
     "metadata": {},
     "output_type": "display_data"
    }
   ],
   "source": [
    "xs = flat_data_2d[:, 0]\n",
    "ys = flat_data_2d[:, 1]\n",
    "plt.scatter(xs, ys)"
   ]
  },
  {
   "cell_type": "code",
   "execution_count": 66,
   "id": "920876d6",
   "metadata": {},
   "outputs": [
    {
     "data": {
      "text/plain": [
       "<matplotlib.legend.Legend at 0x1235bada0>"
      ]
     },
     "execution_count": 66,
     "metadata": {},
     "output_type": "execute_result"
    },
    {
     "data": {
      "image/png": "[encoded data removed]",
      "text/plain": [
       "<Figure size 640x480 with 1 Axes>"
      ]
     },
     "metadata": {},
     "output_type": "display_data"
    }
   ],
   "source": [
    "incongruent = labels == \"incongruent\"\n",
    "congruent = labels == \"congruent\"\n",
    "\n",
    "plt.scatter(xs[incongruent], ys[incongruent], label=\"incongruent\", c=\"blue\")\n",
    "plt.scatter(xs[congruent], ys[congruent], label=\"congruent\", c=\"red\")\n",
    "plt.legend()"
   ]
  }
 ],
 "metadata": {
  "kernelspec": {
   "display_name": ".venv",
   "language": "python",
   "name": "python3"
  },
  "language_info": {
   "codemirror_mode": {
    "name": "ipython",
    "version": 3
   },
   "file_extension": ".py",
   "mimetype": "text/x-python",
   "name": "python",
   "nbconvert_exporter": "python",
   "pygments_lexer": "ipython3",
   "version": "3.10.16"
  }
 },
 "nbformat": 4,
 "nbformat_minor": 5
}
